{
 "cells": [
  {
   "cell_type": "code",
   "execution_count": 1,
   "id": "27ff5604",
   "metadata": {},
   "outputs": [],
   "source": [
    "import pandas as pd\n",
    "import matplotlib.pyplot as plt\n",
    "from scipy.stats import levene\n",
    "from scipy.stats import f_oneway"
   ]
  },
  {
   "cell_type": "code",
   "execution_count": 2,
   "id": "e791ef3f",
   "metadata": {},
   "outputs": [],
   "source": [
    "def get_df(name):\n",
    "    df = pd.read_csv(f'outputs/{name}-bleus.csv')\n",
    "    df['top_bleu'] = df[['bleu1', 'bleu2', 'bleu3']].max(axis=1)\n",
    "    return df"
   ]
  },
  {
   "cell_type": "code",
   "execution_count": 3,
   "id": "e696d0da",
   "metadata": {},
   "outputs": [],
   "source": [
    "ada_df = get_df('ada')\n",
    "babbage_df = get_df('babbage')\n",
    "curie_df = get_df('curie')\n",
    "turbo_df = get_df('turbo')"
   ]
  },
  {
   "cell_type": "markdown",
   "id": "23a58a86",
   "metadata": {},
   "source": [
    "## Levene test\n",
    "### N0: The variance among groups is equal\n",
    "### We fail to reject N0 -> The variance among groups is equal."
   ]
  },
  {
   "cell_type": "code",
   "execution_count": 4,
   "id": "05709d4b",
   "metadata": {},
   "outputs": [
    {
     "name": "stdout",
     "output_type": "stream",
     "text": [
      "Statistic: 1.6896394309391163, p-value: 0.16710640360052412\n"
     ]
    }
   ],
   "source": [
    "statistic, p = levene(ada_df.bleu1, babbage_df.bleu1, curie_df.bleu1, turbo_df.bleu1)\n",
    "print(f\"Statistic: {statistic}, p-value: {p}\")"
   ]
  },
  {
   "cell_type": "markdown",
   "id": "28a93a05",
   "metadata": {},
   "source": [
    "## One-way ANOVA\n",
    "### Assumptions\n",
    "- The data is not normally distributed, however the sample size is large enough to disregard this.\n",
    "- The homogeneity of variances assumption is fulfilled.\n",
    "- The data are independent\n",
    "\n",
    "### N0: There is no difference in the population means\n",
    "### We reject N0 -> There's a difference in the population means."
   ]
  },
  {
   "cell_type": "code",
   "execution_count": 5,
   "id": "268a648c",
   "metadata": {},
   "outputs": [
    {
     "name": "stdout",
     "output_type": "stream",
     "text": [
      "Statistic: 3.2312735459432202, p-value: 0.02151709867198638\n"
     ]
    }
   ],
   "source": [
    "stat, p = f_oneway(ada_df.bleu1, babbage_df.bleu1, curie_df.bleu1, turbo_df.bleu1)\n",
    "print(f\"Statistic: {stat}, p-value: {p}\")\n"
   ]
  }
 ],
 "metadata": {
  "kernelspec": {
   "display_name": "DataMining",
   "language": "python",
   "name": "datamining"
  },
  "language_info": {
   "codemirror_mode": {
    "name": "ipython",
    "version": 3
   },
   "file_extension": ".py",
   "mimetype": "text/x-python",
   "name": "python",
   "nbconvert_exporter": "python",
   "pygments_lexer": "ipython3",
   "version": "3.8.10"
  }
 },
 "nbformat": 4,
 "nbformat_minor": 5
}
