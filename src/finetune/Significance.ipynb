{
 "cells": [
  {
   "cell_type": "code",
   "execution_count": 1,
   "id": "27ff5604",
   "metadata": {},
   "outputs": [],
   "source": [
    "import pandas as pd\n",
    "import matplotlib.pyplot as plt\n",
    "from scipy.stats import levene\n",
    "from scipy.stats import f_oneway"
   ]
  },
  {
   "cell_type": "code",
   "execution_count": 2,
   "id": "e791ef3f",
   "metadata": {},
   "outputs": [],
   "source": [
    "def get_df(name):\n",
    "    df = pd.read_csv(f'outputs/{name}-bleus.csv')\n",
    "    df['top_bleu'] = df[['bleu1', 'bleu2', 'bleu3']].max(axis=1)\n",
    "    return df"
   ]
  },
  {
   "cell_type": "code",
   "execution_count": 3,
   "id": "e696d0da",
   "metadata": {},
   "outputs": [],
   "source": [
    "ada_df = get_df('ada')\n",
    "babbage_df = get_df('babbage')\n",
    "curie_df = get_df('curie')\n",
    "turbo_df = get_df('turbo')"
   ]
  },
  {
   "cell_type": "markdown",
   "id": "23a58a86",
   "metadata": {},
   "source": [
    "## Levene test\n",
    "### N0: The variance among groups is equal\n",
    "### We fail to reject N0 -> The variance among groups is equal."
   ]
  },
  {
   "cell_type": "code",
   "execution_count": 4,
   "id": "05709d4b",
   "metadata": {},
   "outputs": [
    {
     "ename": "NameError",
     "evalue": "name 'stat' is not defined",
     "output_type": "error",
     "traceback": [
      "\u001b[0;31m---------------------------------------------------------------------------\u001b[0m",
      "\u001b[0;31mNameError\u001b[0m                                 Traceback (most recent call last)",
      "Cell \u001b[0;32mIn [4], line 2\u001b[0m\n\u001b[1;32m      1\u001b[0m statistic, p \u001b[38;5;241m=\u001b[39m levene(ada_df\u001b[38;5;241m.\u001b[39mbleu1, babbage_df\u001b[38;5;241m.\u001b[39mbleu1, curie_df\u001b[38;5;241m.\u001b[39mbleu1, turbo_df\u001b[38;5;241m.\u001b[39mbleu1)\n\u001b[0;32m----> 2\u001b[0m \u001b[38;5;28mprint\u001b[39m(\u001b[38;5;124mf\u001b[39m\u001b[38;5;124m\"\u001b[39m\u001b[38;5;124mStatistic: \u001b[39m\u001b[38;5;132;01m{\u001b[39;00mstat\u001b[38;5;132;01m}\u001b[39;00m\u001b[38;5;124m, p-value: \u001b[39m\u001b[38;5;132;01m{\u001b[39;00mp\u001b[38;5;132;01m}\u001b[39;00m\u001b[38;5;124m\"\u001b[39m)\n",
      "\u001b[0;31mNameError\u001b[0m: name 'stat' is not defined"
     ]
    }
   ],
   "source": [
    "statistic, p = levene(ada_df.bleu1, babbage_df.bleu1, curie_df.bleu1, turbo_df.bleu1)\n",
    "print(f\"Statistic: {stat}, p-value: {p}\")"
   ]
  },
  {
   "cell_type": "markdown",
   "id": "28a93a05",
   "metadata": {},
   "source": [
    "## One-way ANOVA\n",
    "### Assumptions\n",
    "- The data is not normally distributed, however the sample size is large enough to disregard this.\n",
    "- The homogeneity of variances assumption is fulfilled.\n",
    "- The data are independent\n",
    "\n",
    "### N0: There is no difference in the population means\n",
    "### We reject N0 -> There's a difference in the population means."
   ]
  },
  {
   "cell_type": "code",
   "execution_count": null,
   "id": "268a648c",
   "metadata": {},
   "outputs": [],
   "source": [
    "stat, p = f_oneway(ada_df.bleu1, babbage_df.bleu1, curie_df.bleu1, turbo_df.bleu1)\n",
    "print(f\"Statistic: {stat}, p-value: {p}\")\n"
   ]
  }
 ],
 "metadata": {
  "kernelspec": {
   "display_name": "DataMining",
   "language": "python",
   "name": "datamining"
  },
  "language_info": {
   "codemirror_mode": {
    "name": "ipython",
    "version": 3
   },
   "file_extension": ".py",
   "mimetype": "text/x-python",
   "name": "python",
   "nbconvert_exporter": "python",
   "pygments_lexer": "ipython3",
   "version": "3.8.10"
  }
 },
 "nbformat": 4,
 "nbformat_minor": 5
}
